{
 "cells": [
  {
   "cell_type": "markdown",
   "id": "a587a441",
   "metadata": {},
   "source": [
    "### 1. Why are functions advantageous to have in your programs?"
   ]
  },
  {
   "cell_type": "markdown",
   "id": "b77727af",
   "metadata": {},
   "source": [
    "**Ans:** The main advantage of using functions is code resuability. Functions reduces the need of repeated/duplicate code. This makes program shorter,easier to manage/understand and easier update."
   ]
  },
  {
   "cell_type": "markdown",
   "id": "d5a7c290",
   "metadata": {},
   "source": [
    "### 2. When does the code in a function run: when it's specified or when it's called?"
   ]
  },
  {
   "cell_type": "markdown",
   "id": "c45eab3d",
   "metadata": {},
   "source": [
    "**Ans:** The code in a function gets executed when the function is called at runtime, not when it's specified."
   ]
  },
  {
   "cell_type": "markdown",
   "id": "1e614834",
   "metadata": {},
   "source": [
    "### 3. What statement creates a function?"
   ]
  },
  {
   "cell_type": "markdown",
   "id": "576f5f9a",
   "metadata": {},
   "source": [
    "**Ans:** The def statment creates a function. It has following syntax:\n",
    "\n",
    "def function_name(parameters):<br>&nbsp;&nbsp;&nbsp;&nbsp;\n",
    "    \"\"\"doc string\"\"\" <br>&nbsp;&nbsp;&nbsp;&nbsp;\n",
    "    -- function body --<br>\n",
    "return value    "
   ]
  },
  {
   "cell_type": "markdown",
   "id": "50a7c50d",
   "metadata": {},
   "source": [
    "### 4. What is the difference between a function and a function call?"
   ]
  },
  {
   "cell_type": "markdown",
   "id": "e7e7348f",
   "metadata": {},
   "source": [
    "**Ans:** A function is used to achieve a particular result, while a function call is using the function to achieve that task.Using a function to do a particular task at any point in program is called as function call."
   ]
  },
  {
   "cell_type": "markdown",
   "id": "5a44190e",
   "metadata": {},
   "source": [
    "### 5. How many global scopes are there in a Python program? How many local scopes?"
   ]
  },
  {
   "cell_type": "markdown",
   "id": "dbbd3eac",
   "metadata": {},
   "source": [
    "**Ans:**<br>Global scope: There is only one global scope in python per program execution. This scope remains in existence until the program terminates and all its variables are forgotten.\n",
    "<br><br>\n",
    "Local scope: The local scope or function scope is a Python scope created at function calls. Every time you call a function, you're also creating a new local scope. By default, parameters and names that we assign inside a function exist only within the local scope associated with the function. When the function returns, the local scope is destroyed and the variables are forgotten."
   ]
  },
  {
   "cell_type": "markdown",
   "id": "b2c91e82",
   "metadata": {},
   "source": [
    "### 6. What happens to variables in a local scope when the function call returns?"
   ]
  },
  {
   "cell_type": "markdown",
   "id": "034aaa20",
   "metadata": {},
   "source": [
    "**Ans:**  When the function returns, the local scope is destroyed and the variables are forgotten."
   ]
  },
  {
   "cell_type": "markdown",
   "id": "fa9d1154",
   "metadata": {},
   "source": [
    "### 7. What is the concept of a return value? Is it possible to have a return value in an expression?"
   ]
  },
  {
   "cell_type": "markdown",
   "id": "3a3ba495",
   "metadata": {},
   "source": [
    "**Ans:** A return value is a value that the function call evaluates to. Like any value, a return value can be used as part of an expression."
   ]
  },
  {
   "cell_type": "markdown",
   "id": "58d8639a",
   "metadata": {},
   "source": [
    "### 8. If a function does not have a return statement, what is the return value of a call to that function?"
   ]
  },
  {
   "cell_type": "markdown",
   "id": "b88ac776",
   "metadata": {},
   "source": [
    "**Ans:** If a functions does not have a return statment, the return value of that function is `None`. "
   ]
  },
  {
   "cell_type": "markdown",
   "id": "d43f2bc9",
   "metadata": {},
   "source": [
    "### 9. How do you make a function variable refer to the global variable?"
   ]
  },
  {
   "cell_type": "markdown",
   "id": "55a4f491",
   "metadata": {},
   "source": [
    "**Ans:** If you want to refer to a global variable in a function, you can use the `global` keyword to declare which variables are global. The `global` statment will force a function variable to refer a global variable."
   ]
  },
  {
   "cell_type": "markdown",
   "id": "e00a2a25",
   "metadata": {},
   "source": [
    "### 10. What is the data type of None?"
   ]
  },
  {
   "cell_type": "markdown",
   "id": "9008620f",
   "metadata": {},
   "source": [
    "**Ans:** The datatype of `None` is `NoneType`."
   ]
  },
  {
   "cell_type": "markdown",
   "id": "3ec510e9",
   "metadata": {},
   "source": [
    "### 11. What does the sentence import areallyourpetsnamederic do?"
   ]
  },
  {
   "cell_type": "markdown",
   "id": "cda0b7f0",
   "metadata": {},
   "source": [
    "**Ans:** The setence import areallyourpetsnamederic will import a module named areallyourpetsnamederic."
   ]
  },
  {
   "cell_type": "markdown",
   "id": "5d274373",
   "metadata": {},
   "source": [
    "### 12. If you had a bacon() feature in a spam module, what would you call it after importing spam?"
   ]
  },
  {
   "cell_type": "markdown",
   "id": "2e4c002c",
   "metadata": {},
   "source": [
    "**Ans:** The function can be called with spam.bacon()."
   ]
  },
  {
   "cell_type": "markdown",
   "id": "d464c363",
   "metadata": {},
   "source": [
    "### 13. What can you do to save a programme from crashing if it encounters an error?"
   ]
  },
  {
   "cell_type": "markdown",
   "id": "5013fdb0",
   "metadata": {},
   "source": [
    "**Ans:** The line of code that might cause an error must be placed in `try` block and use the `except` block to handle the error. "
   ]
  },
  {
   "cell_type": "markdown",
   "id": "7be461fb",
   "metadata": {},
   "source": [
    "### 14. What is the purpose of the try clause? What is the purpose of the except clause?"
   ]
  },
  {
   "cell_type": "markdown",
   "id": "afb4e499",
   "metadata": {},
   "source": [
    "**Ans:** The code that might cause an error should be placed in a `try` clause block. The code that executes once the error happens should be placed in a `except` clause."
   ]
  }
 ],
 "metadata": {
  "kernelspec": {
   "display_name": "Python 3 (ipykernel)",
   "language": "python",
   "name": "python3"
  },
  "language_info": {
   "codemirror_mode": {
    "name": "ipython",
    "version": 3
   },
   "file_extension": ".py",
   "mimetype": "text/x-python",
   "name": "python",
   "nbconvert_exporter": "python",
   "pygments_lexer": "ipython3",
   "version": "3.8.16"
  }
 },
 "nbformat": 4,
 "nbformat_minor": 5
}
